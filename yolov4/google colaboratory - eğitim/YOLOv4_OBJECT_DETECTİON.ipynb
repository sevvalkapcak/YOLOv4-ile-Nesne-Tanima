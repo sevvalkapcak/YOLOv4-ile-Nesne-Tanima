{
  "nbformat": 4,
  "nbformat_minor": 0,
  "metadata": {
    "accelerator": "GPU",
    "colab": {
      "provenance": []
    },
    "kernelspec": {
      "display_name": "Python 3",
      "name": "python3"
    }
  },
  "cells": [
    {
      "cell_type": "markdown",
      "metadata": {
        "id": "iZULaGX7_H1u"
      },
      "source": [
        "# YOLOV4 NESNE TANIMA (OBJECT DETECTİON)\n",
        "Bu notebookta nesne tanıma (object detection) için en hızlı modellerden biri olan yolov4 modeli ile nesne tanıma yapacağız."
      ]
    },
    {
      "cell_type": "markdown",
      "metadata": {
        "id": "gE3azXoR_pWi"
      },
      "source": [
        "## DARKNET KLONLAMA VE KURULUMU\n",
        "\n",
        "\n",
        "\n"
      ]
    },
    {
      "cell_type": "code",
      "metadata": {
        "id": "7Y2HSXYmHpqr"
      },
      "source": [
        "# clone darknet repo\n",
        "!git clone https://github.com/AlexeyAB/darknet"
      ],
      "execution_count": null,
      "outputs": []
    },
    {
      "cell_type": "code",
      "metadata": {
        "id": "xym8_m8CIyXK"
      },
      "source": [
        "# change makefile to have GPU and OPENCV enabled\n",
        "%cd darknet\n",
        "!sed -i 's/OPENCV=0/OPENCV=1/' Makefile\n",
        "!sed -i 's/GPU=0/GPU=1/' Makefile\n",
        "!sed -i 's/CUDNN=0/CUDNN=1/' Makefile\n",
        "!sed -i 's/CUDNN_HALF=0/CUDNN_HALF=1/' Makefile\n"
      ],
      "execution_count": null,
      "outputs": []
    },
    {
      "cell_type": "code",
      "metadata": {
        "id": "5uloUwmUKF05"
      },
      "source": [
        "# verify CUDA\n",
        "!/usr/local/cuda/bin/nvcc --version"
      ],
      "execution_count": null,
      "outputs": []
    },
    {
      "cell_type": "code",
      "metadata": {
        "id": "q2Jjv0yRKLPe"
      },
      "source": [
        "# make darknet (builds darknet so that you can then use the darknet executable file to run or train object detectors)\n",
        "!make"
      ],
      "execution_count": null,
      "outputs": []
    },
    {
      "cell_type": "markdown",
      "metadata": {
        "id": "xn7TpB-UMBWf"
      },
      "source": [
        "## YARDIMCI FONKSİYONLAR\n",
        "\n",
        "\n"
      ]
    },
    {
      "cell_type": "code",
      "metadata": {
        "id": "G9Fv0wjCMPYY"
      },
      "source": [
        "# define helper functions\n",
        "def imShow(path): \n",
        "  import cv2\n",
        "  import matplotlib.pyplot as plt\n",
        "  %matplotlib inline\n",
        "\n",
        "  image = cv2.imread(path)\n",
        "  height, width = image.shape[:2]\n",
        "  resized_image = cv2.resize(image,(3*width, 3*height), interpolation = cv2.INTER_CUBIC)\n",
        "\n",
        "  fig = plt.gcf()\n",
        "  fig.set_size_inches(18, 10)\n",
        "  plt.axis(\"off\")\n",
        "  plt.imshow(cv2.cvtColor(resized_image, cv2.COLOR_BGR2RGB))\n",
        "  plt.show()\n",
        "\n",
        "# use this to upload files\n",
        "def upload():\n",
        "  from google.colab import files\n",
        "  uploaded = files.upload() \n",
        "  for name, data in uploaded.items():\n",
        "    with open(name, 'wb') as f:\n",
        "      f.write(data)\n",
        "      print ('saved file', name)\n",
        "\n",
        "# use this to download a file  \n",
        "def download(path):\n",
        "  from google.colab import files\n",
        "  files.download(path)"
      ],
      "execution_count": null,
      "outputs": []
    },
    {
      "cell_type": "markdown",
      "metadata": {
        "id": "BagdUvDhZT7O"
      },
      "source": [
        "## FOTOĞRAF TOPLAMA VE ETİKETLEME \n"
      ]
    },
    {
      "cell_type": "code",
      "metadata": {
        "id": "uMLpWp-DZSZY"
      },
      "source": [
        "%cd ..\n",
        "from google.colab import drive\n",
        "drive.mount('/content/gdrive')"
      ],
      "execution_count": null,
      "outputs": []
    },
    {
      "cell_type": "code",
      "metadata": {
        "id": "bBFiu7rFZdmU"
      },
      "source": [
        "# this creates a symbolic link so that now the path /content/gdrive/My\\ Drive/ is equal to /mydrive\n",
        "!ln -s /content/gdrive/My\\ Drive/ /mydrive\n",
        "!ls /mydrive"
      ],
      "execution_count": null,
      "outputs": []
    },
    {
      "cell_type": "markdown",
      "metadata": {
        "id": "9ket44SxkdBu"
      },
      "source": [
        "## HAZIRLAMIŞ OLDUĞUMUZ VERİ SETİNİ YÜKLEME\n"
      ]
    },
    {
      "cell_type": "code",
      "metadata": {
        "id": "YL--CsG0Vevs"
      },
      "source": [
        "# this is where my datasets are stored within my Google Drive (I created a yolov4 folder to store all important files for custom training) \n",
        "%cd darknet/\n",
        "!ls /mydrive/yeni4"
      ],
      "execution_count": null,
      "outputs": []
    },
    {
      "cell_type": "code",
      "metadata": {
        "id": "zqLQF0fNWJro"
      },
      "source": [
        "# copy over both datasets into the root directory of the Colab VM (comment out test.zip if you are not using a validation dataset)\n",
        "!cp /mydrive/yeni4/obj.zip ../\n",
        "!cp /mydrive/yeni4/test.zip ../"
      ],
      "execution_count": null,
      "outputs": []
    },
    {
      "cell_type": "code",
      "metadata": {
        "id": "A9mYUoKOWWlR"
      },
      "source": [
        "# unzip the datasets and their contents so that they are now in /darknet/data/ folder\n",
        "!unzip ../obj.zip -d data/\n",
        "!unzip ../test.zip -d data/"
      ],
      "execution_count": null,
      "outputs": []
    },
    {
      "cell_type": "markdown",
      "metadata": {
        "id": "SWjNcjfcXKgx"
      },
      "source": [
        "## EĞİTİM İÇİN GEREKLİ DOSYALAR\n",
        "\n"
      ]
    },
    {
      "cell_type": "markdown",
      "metadata": {
        "id": "nWZqyTvxdZW1"
      },
      "source": [
        "*-Config Dosyası*\n"
      ]
    },
    {
      "cell_type": "code",
      "metadata": {
        "id": "WpI1Y_EzdtYx",
        "colab": {
          "base_uri": "https://localhost:8080/"
        },
        "outputId": "267f46a4-416c-44f1-f218-31ec5f7dd57a"
      },
      "source": [
        "# download cfg to google drive and change its name\n",
        "%cd darknet/\n",
        "!cp cfg/yolov4-custom.cfg /mydrive/yeni4/yolov4-obj.cfg"
      ],
      "execution_count": null,
      "outputs": [
        {
          "output_type": "stream",
          "name": "stdout",
          "text": [
            "[Errno 20] Not a directory: 'darknet/'\n",
            "/darknet\n"
          ]
        }
      ]
    },
    {
      "cell_type": "markdown",
      "metadata": {
        "id": "YQUDXrhJekxl"
      },
      "source": [
        "Config dosyamızda yapmamız gereken değişiklikler:\n",
        "\n",
        "(Burada verilen değerler bu değişkenlerin önerilen değerleridir.) \n",
        "\n",
        "1.   batch = 64 ve subdivision 16.\n",
        "\n",
        "3.   max_batches değerini (2000 * eğitilen sınıf sayısı) değerine eşitliyoruz.\n",
        "\n",
        "4.   steps değerlerini (%80 of max_batches) , (%90 of max_batches) yapıyoruz.\n",
        "\n",
        "5.   [yolo] başlığı altındaki classes değerlerini eğitim yaptığımız sınıf sayısı ile değiştiriyoruz. \n",
        "\n",
        "6.   filters değişkenlerini de (eğitim yapacağımız sınıf sayısı + 5 )*3 değerine eşitliyoruz \n",
        "\n"
      ]
    },
    {
      "cell_type": "code",
      "metadata": {
        "id": "kXkXb1tlLCnE"
      },
      "source": [
        "# upload the custom .cfg back to cloud VM from Google Drive\n",
        "!cp /mydrive/yeni4/yolov4-obj.cfg ./cfg"
      ],
      "execution_count": null,
      "outputs": []
    },
    {
      "cell_type": "markdown",
      "metadata": {
        "id": "a4b33o9EiHUD"
      },
      "source": [
        "*-obj.names ve obj.data*\n",
        "\n",
        "yolov4 isimli klasörümüz içine obj.names isimli bir dosya oluşturalım ve dosyayı eğitim yapacağımız nesleriniz isimlerini yazıyoruz.\n",
        "\n",
        "ÖRNEĞİN:\n",
        "```\n",
        "H\n",
        "```\n",
        "\n",
        "Aynı klasör içinde obj.data isimle bir dosya oluşturarak içine eğitim yapacağımız nesne sayısını, eğitim yaparken kullanacağımız train.txt, text.txt ve obj.names isimli dosyaların adreslerini ve eğitim sonucu bulduğumuz ağırlıkları kaydedeceğimiz dizini yazıyoruz.\n",
        "\n",
        "ÖRNEĞİN:\n",
        "```\n",
        "classes = 2\n",
        "train = data/train.txt\n",
        "valid = data/test.txt\n",
        "names = data/obj.names\n",
        "backup = /mydrive\n",
        "```"
      ]
    },
    {
      "cell_type": "code",
      "metadata": {
        "id": "1vuqvzvLUtw2"
      },
      "source": [
        "# upload the obj.names and obj.data files to cloud VM from Google Drive\n",
        "!cp /mydrive/yeni4/obj.names ./data\n",
        "!cp /mydrive/yeni4/obj.data  ./data"
      ],
      "execution_count": null,
      "outputs": []
    },
    {
      "cell_type": "markdown",
      "metadata": {
        "id": "zIA38VpCU1y9"
      },
      "source": [
        "*-Train ve Test Dosyaları*\n",
        "\n",
        "\n",
        "generate_train.py\n",
        "\n",
        "\n",
        "\n",
        "```\n",
        "import os\n",
        "image_files = []\n",
        "os.chdir(os.path.join(\"data\", \"obj\"))\n",
        "for filename in os.listdir(os.getcwd()):\n",
        "    if filename.endswith(\".jpg\"):\n",
        "        image_files.append(\"data/obj/\" + filename)\n",
        "os.chdir(\"..\")\n",
        "with open(\"train.txt\", \"w\") as outfile:\n",
        "    for image in image_files:\n",
        "        outfile.write(image)\n",
        "        outfile.write(\"\\n\")\n",
        "    outfile.close()\n",
        "os.chdir(\"..\")\n",
        "```\n",
        "\n",
        "generate_test.py\n",
        "\n",
        "\n",
        "\n",
        "```\n",
        "import os\n",
        "\n",
        "image_files = []\n",
        "os.chdir(os.path.join(\"data\", \"test\"))\n",
        "for filename in os.listdir(os.getcwd()):\n",
        "    if filename.endswith(\".jpg\"):\n",
        "        image_files.append(\"data/test/\" + filename)\n",
        "os.chdir(\"..\")\n",
        "with open(\"test.txt\", \"w\") as outfile:\n",
        "    for image in image_files:\n",
        "        outfile.write(image)\n",
        "        outfile.write(\"\\n\")\n",
        "    outfile.close()\n",
        "os.chdir(\"..\")\n",
        "```\n"
      ]
    },
    {
      "cell_type": "code",
      "metadata": {
        "id": "4mgiK3C2ZF0k"
      },
      "source": [
        "# upload the generate_train.py and generate_test.py script to cloud VM from Google Drive\n",
        "!cp /mydrive/yeni4/generate_train.py ./\n",
        "!cp /mydrive/yeni4/generate_test.py ./"
      ],
      "execution_count": null,
      "outputs": []
    },
    {
      "cell_type": "code",
      "metadata": {
        "id": "DAKjJSJwJb5R"
      },
      "source": [
        "!python generate_train.py\n",
        "!python generate_test.py"
      ],
      "execution_count": null,
      "outputs": []
    },
    {
      "cell_type": "code",
      "metadata": {
        "id": "nv5yDQptaJRE"
      },
      "source": [
        "# verify that the newly generated train.txt and test.txt can be seen in our darknet/data folder\n",
        "!ls data/"
      ],
      "execution_count": null,
      "outputs": []
    },
    {
      "cell_type": "markdown",
      "metadata": {
        "id": "nrkC4l-PbmNS"
      },
      "source": [
        "# ÖNCEDEN EĞİTİLMİŞ CONVOLUTİONAL KATMANLARIN AĞIRLIKLARINI İNDİRME\n",
        "\n",
        "Bu adımda önceden eğitilmiş yolov3 için kullanılmış deeplearning katmanları ağırlıklarını indiriyoruz. Eğitime bu ağırlıklarla başlamak eğittiğimiz modelin daha doğru çalışmasına ve eğitim süresini kısaltmaya yardımcı olacaktır."
      ]
    },
    {
      "cell_type": "code",
      "metadata": {
        "id": "KcUKbtO-byOE"
      },
      "source": [
        "!wget https://github.com/AlexeyAB/darknet/releases/download/darknet_yolo_v3_optimal/yolov4.conv.137"
      ],
      "execution_count": null,
      "outputs": []
    },
    {
      "cell_type": "markdown",
      "metadata": {
        "id": "POozxsvFdXTu"
      },
      "source": [
        "## KONTROL\n",
        "\n",
        "Gerekli tüm dosyalar hazır, eğitime başlayabiliriz.\n"
      ]
    },
    {
      "cell_type": "markdown",
      "metadata": {
        "id": "9XQWTdDxDJ0q"
      },
      "source": [
        "\n",
        "Eğitimimiz uzun süreceği için google collab bizi serverdan atabilir. Bunun önüne geçmek için aktif olduğumuzu bir şekile bildirmeliyiz.\n",
        "\n",
        "\n",
        "Bunun için de sayfanın üst tarafına sağ tıklayıp \"ögeyi denetle\" veya \"incele\" seçeneğiniz seçip, çıkan pencereden \"console\"'a tıklayıp açılan komut satırına aşağıdaki kodu ekleyip enter tuşuna basarsak bu kod bizim 10 dakikada bir connect butonuna basarak bizim aktif kalmamızı sağlayacaktır.\n",
        "\n",
        "```\n",
        "function ClickConnect(){\n",
        "console.log(\"Working\"); \n",
        "document.querySelector(\"colab-toolbar-button#connect\").click() \n",
        "}\n",
        "setInterval(ClickConnect,60000)\n",
        "```"
      ]
    },
    {
      "cell_type": "markdown",
      "metadata": {
        "id": "qCmo1XsMDPNv"
      },
      "source": [
        "# EĞİTİM\n",
        "\n",
        "Sıradaki komut ile eğitim başlayacaktır.\n",
        "\n",
        "Eğitimimizin süresi veri setinizdeki fotoğraf sayısı, fotoğrafların kalitesi, eğitim yaptığınız nesne sayısı gibi faktörlere göre değişebilir. Modelimizin doğruluğu için loss değerimiz önemlidir. Loss değerimiz ne kadar düşük olursa modelimiz o kadar doğru çalışır. Modelimizi loss değeri azalmayı durdurana kadar çalıştırıp veri setimize göre mümkün olan en doğru modeli eğitebiliriz. "
      ]
    },
    {
      "cell_type": "code",
      "metadata": {
        "id": "imc0NP19hLuq"
      },
      "source": [
        "# train your custom detector! (uncomment %%capture below if you run into memory issues or your Colab is crashing)\n",
        "# %%capture\n",
        "!./darknet detector train data/obj.data cfg/yolov4-obj.cfg yolov4.conv.137 -dont_show -map"
      ],
      "execution_count": null,
      "outputs": []
    },
    {
      "cell_type": "markdown",
      "metadata": {
        "id": "5GjIkYFjhnYL"
      },
      "source": [
        "Modelimizi eğittikten sonra eğitim sırasında loss değerimizin nasıl değiştiğine dair bir grafik görebiliriz."
      ]
    },
    {
      "cell_type": "code",
      "metadata": {
        "id": "uXPGYKmchv7Z"
      },
      "source": [
        "# eğitimimize ait grafiğimiz.\n",
        "imShow('chart.png')"
      ],
      "execution_count": null,
      "outputs": []
    },
    {
      "cell_type": "code",
      "metadata": {
        "id": "Fl7PsmikjCBW"
      },
      "source": [
        "# eğitime kaldığımız yerden devam edebiliriz.\n",
        "!./darknet detector train data/obj.data cfg/yolov4-obj.cfg /mydrive/yolov4/yolov4-obj_last.weights -dont_show -clear"
      ],
      "execution_count": null,
      "outputs": []
    },
    {
      "cell_type": "markdown",
      "metadata": {
        "id": "voia4UtxlPMa"
      },
      "source": [
        "# EĞİTTİĞİMİZ MODELİMİZİ KULLANALIM\n",
        "\n",
        "\n",
        "Eğitimimiz tamamlandı, şimdi istediğimiz fotoğraflar üzerinde tanıma yapabiliriz."
      ]
    },
    {
      "cell_type": "code",
      "metadata": {
        "id": "2UoSBmTFlNep"
      },
      "source": [
        "!./darknet detector map data/obj.data cfg/yolov4-obj.cfg /mydrive/yeni4/backup/yolov4-obj_best.weights"
      ],
      "execution_count": null,
      "outputs": []
    },
    {
      "cell_type": "markdown",
      "metadata": {
        "id": "8dfPY2h39m-T"
      },
      "source": [
        "# Modelimizi Çalıştıralım\n"
      ]
    },
    {
      "cell_type": "code",
      "metadata": {
        "id": "xXkZNeA09o2f"
      },
      "source": [
        "# need to set our custom cfg to test mode \n",
        "%cd cfg\n",
        "!sed -i 's/batch=64/batch=1/' yolov4-obj.cfg\n",
        "!sed -i 's/subdivisions=16/subdivisions=1/' yolov4-obj.cfg\n",
        "%cd .."
      ],
      "execution_count": null,
      "outputs": []
    },
    {
      "cell_type": "code",
      "metadata": {
        "id": "o7IIzEal90dA"
      },
      "source": [
        "# run your custom detector with this command (upload an image to your google drive to test, thresh flag sets accuracy that detection must be in order to show it)\n",
        "!./darknet detector test data/obj.data cfg/yolov4-obj.cfg /mydrive/yolov4/yolov4-obj_last.weights /mydrive/fotograflar/images3.jpg -thresh 0.3 -dont_show\n",
        "imShow('predictions.jpg')"
      ],
      "execution_count": null,
      "outputs": []
    }
  ]
}
